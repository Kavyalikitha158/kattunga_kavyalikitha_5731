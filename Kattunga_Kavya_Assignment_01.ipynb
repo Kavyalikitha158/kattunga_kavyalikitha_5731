{
  "cells": [
    {
      "cell_type": "markdown",
      "metadata": {
        "id": "view-in-github"
      },
      "source": [
        "<a href=\"https://colab.research.google.com/github/unt-iialab/INFO5731_Spring2020/blob/master/Assignments/INFO5731_Assignment_One.ipynb\" target=\"_parent\"><img src=\"https://colab.research.google.com/assets/colab-badge.svg\" alt=\"Open In Colab\"/></a>"
      ]
    },
    {
      "cell_type": "markdown",
      "metadata": {
        "id": "Ryk8D1Q4Wsrp"
      },
      "source": [
        "# **INFO5731 Assignment One**"
      ]
    },
    {
      "cell_type": "markdown",
      "source": [
        "This assignment includes range of programming tasks and data analysis exercises, aiming to enhance your Python skills and proficiency in string manipulation, numerical computations, and data science. Follow the instructions carefully and design well-structured Python programs to address each question.\n",
        "\n",
        "Late Submission will have a penalty of 10% reduction for each day after the deadline."
      ],
      "metadata": {
        "id": "qcP6re2g5A5r"
      }
    },
    {
      "cell_type": "markdown",
      "metadata": {
        "id": "JkzR8cFAyGik"
      },
      "source": [
        "# Question 1 (10 points).\n",
        "\n",
        "The formula that describes the volume V of a hemisphere with radius r is the following:\n",
        "\n",
        "$ V=\\frac{2}{3}\\ast\\ \\pi\\ast\\ r^3 $\n",
        "\n",
        "Write a program to calculate the value of V when r is in the range of even numbers from 1-20. Output the result in the following format:\n",
        "\n",
        "\tr\tV\n",
        "\t2\t…\n",
        "\t4\t…\n",
        "\t6\t…\n",
        "\t.\n",
        "\t.\n",
        "\t.\n",
        "\t20\t…\n"
      ]
    },
    {
      "cell_type": "code",
      "execution_count": 10,
      "metadata": {
        "id": "jDyTKYs-yGit",
        "colab": {
          "base_uri": "https://localhost:8080/"
        },
        "outputId": "80aebb67-f2fd-44be-9c76-993c6796fe35"
      },
      "outputs": [
        {
          "output_type": "stream",
          "name": "stdout",
          "text": [
            "r   V\n",
            "2   16.755160819145562\n",
            "4   134.0412865531645\n",
            "6   452.38934211693015\n",
            "8   1072.330292425316\n",
            "10   2094.3951023931954\n",
            "12   3619.114736935441\n",
            "14   5747.0201609669275\n",
            "16   8578.642339402528\n",
            "18   12214.512237157114\n",
            "20   16755.160819145563\n"
          ]
        }
      ],
      "source": [
        "import math\n",
        "def hemsph_vol(rad):\n",
        "    return (2 / 3) * math.pi * rad**3\n",
        "print('r' +  \"   \" + 'V')\n",
        "for r in range(2, 21, 2):\n",
        "    V = hemsph_vol(r)\n",
        "    print(str(r) + \"   \" + str(V))"
      ]
    },
    {
      "cell_type": "markdown",
      "metadata": {
        "id": "90_NR8c5XGWc"
      },
      "source": [
        "# Question 2 (20 points)\n",
        "\n",
        "(a) Write a Python program to generate a sequence of 12 random numbers falling within the range of 50 to 150.\n",
        "\n",
        "(b) Arrange the generated numbers in ascending order. Display the sorted list.\n",
        "\n",
        "(c) Extend the program to arrange the numbers in descending order as well. Present the sorted list accordingly.\n",
        "\n",
        "(d) Compute and output the average of the entire group of generated numbers.\n",
        "\n",
        "(e) Enhance the program to calculate and display the average of the first 6 numbers from both the ascending and descending sorted lists."
      ]
    },
    {
      "cell_type": "code",
      "execution_count": 6,
      "metadata": {
        "id": "5QX6bJjGWXY9",
        "colab": {
          "base_uri": "https://localhost:8080/"
        },
        "outputId": "2efdb526-1f31-4727-fcaa-e51358999285"
      },
      "outputs": [
        {
          "output_type": "stream",
          "name": "stdout",
          "text": [
            "Numbers created are:[55, 84, 125, 76, 53, 124, 50, 143, 139, 105, 115, 57]\n",
            "Numbers in ascending order: [50, 53, 55, 57, 76, 84, 105, 115, 124, 125, 139, 143]\n",
            "Numbers in descending order: [143, 139, 125, 124, 115, 105, 84, 76, 57, 55, 53, 50]\n",
            "The entire group average is : 93.83333333333333\n",
            "First 6 average in ascending order: 62.5\n",
            "First 6 average in descending order: 125.16666666666667\n"
          ]
        }
      ],
      "source": [
        "import random\n",
        "random_num = [random.randint(50, 150) for _ in range(12)] #(a)creating sequence of 12 random numbers in 50-150\n",
        "print(f\"Numbers created are:{random_num}\") #printing the numbers\n",
        "ascending_num = sorted(random_num) #(b)Ascending order\n",
        "print(f\"Numbers in ascending order: {ascending_num}\")\n",
        "descending_num = sorted(random_num, reverse=True)  #(c)Descending order\n",
        "print(f\"Numbers in descending order: {descending_num}\")\n",
        "avg_total = sum(random_num) / len(random_num) #(d)average of total numbers\n",
        "print(f\"The entire group average is : {avg_total}\")\n",
        "avg_frst6_asc = sum(ascending_num[:6]) / 6 #(e)First 6 average of ascending order\n",
        "avg_frst6_desc = sum(descending_num[:6]) / 6 #(e)First 6 average of descending order\n",
        "print(f\"First 6 average in ascending order: {avg_frst6_asc}\")\n",
        "print(f\"First 6 average in descending order: {avg_frst6_desc}\")"
      ]
    },
    {
      "cell_type": "markdown",
      "metadata": {
        "id": "1F_PZdH9Sh49"
      },
      "source": [
        "# Question 3 (20 points).\n",
        "\n",
        "Create a Python program that encompasses various string manipulation task:\n",
        "\n",
        "(a) Prompt the user to input two sentences.\n",
        "\n",
        "(b) Transform each sentence into a list, where each element corresponds to a word in the sentence. For example, if the sentences are \"Hello, how are you doing today?\" and \"This is an example sentence for the program!\"\n",
        "\n",
        "The program should output:\n",
        "['Hello', ',', 'how', 'are', 'you', 'doing', 'today', '?', 'This', 'is', 'an', 'example', 'sentence', 'for', 'the', 'program', '!']\n",
        "\n",
        "(c) Compare the two sentences. Print out a list of words that occur in both sentences.\n",
        "\n",
        "(d) Remove any punctuation from the sentence and print the sanitized sentences. It should remove at least the following characters, but it can remove more: period(“.”), comma (“,”), semicolon (“;”), and colon (“:”).\n",
        "\n",
        "(e) Count the number of vowels in each of the sentences. Print out each vowel and the occurrences  in the each of the two sentences separately, such as:\n",
        "\n",
        "Sentence1: a:2, e:2, i:0, etc.\n",
        "Sentence2: a:1, e:2, i:2, etc.\n",
        "\n",
        "Design a well-structured Python program to execute these tasks efficiently."
      ]
    },
    {
      "cell_type": "code",
      "execution_count": 30,
      "metadata": {
        "id": "Y0oOSlsOS0cq",
        "colab": {
          "base_uri": "https://localhost:8080/"
        },
        "outputId": "9923a8d8-eaab-42c3-c3d0-abb585d37561"
      },
      "outputs": [
        {
          "output_type": "stream",
          "name": "stdout",
          "text": [
            "Give the first sentence: hey there\n",
            "Give the second sentence: how are you\n",
            "List of Words: ['hey', 'there', 'how', 'are', 'you']\n",
            "Same words are : []\n",
            "Updated first sentence: hey there\n",
            "Updated second sentence: how are you\n",
            "No. of vowels present in first sentence:\n",
            "a: 0\n",
            "e: 3\n",
            "i: 0\n",
            "o: 0\n",
            "u: 0\n",
            "No. of vowels present in second sentence:\n",
            "a: 1\n",
            "e: 1\n",
            "i: 0\n",
            "o: 2\n",
            "u: 1\n"
          ]
        }
      ],
      "source": [
        "import string\n",
        "sent1 = input(\"Give the first sentence: \")\n",
        "sent2 = input(\"Give the second sentence: \")\n",
        "def sent_to_list(sent):\n",
        "    return [word for word in sent.split()]\n",
        "word_list = sent_to_list(sent1) + sent_to_list(sent2)\n",
        "print(f\"List of Words: {word_list}\")\n",
        "def same_words(s1, s2):\n",
        "    set1 = set(s1.lower().split())\n",
        "    set2 = set(s2.lower().split())\n",
        "    return list(set1 & set2)\n",
        "\n",
        "same_word_list = same_words(sent1, sent2)\n",
        "print(f\"Same words are : {same_word_list}\")\n",
        "\n",
        "def delete_punctn(sent):\n",
        "    convertor = str.maketrans('', '', string.punctuation)\n",
        "    return sent.translate(convertor)\n",
        "\n",
        "updt_sent1 = delete_punctn(sent1)\n",
        "updt_sent2 = delete_punctn(sent2)\n",
        "print(f\"Updated first sentence: {updt_sent1}\")\n",
        "print(f\"Updated second sentence: {updt_sent2}\")\n",
        "\n",
        "def calculate_vowels(sentence):\n",
        "    vowels = 'aeiou'\n",
        "    count_vowel = {}\n",
        "    for v in vowels:\n",
        "      count_vowel[v] = sentence.lower().count(v)\n",
        "    return count_vowel\n",
        "\n",
        "count_vowel1 = calculate_vowels(updt_sent1)\n",
        "count_vowel2 = calculate_vowels(updt_sent2)\n",
        "\n",
        "print(\"No. of vowels present in first sentence:\")\n",
        "for vowel, count in count_vowel1.items():\n",
        "    print(vowel + \": \" + str(count))\n",
        "\n",
        "print(\"No. of vowels present in second sentence:\")\n",
        "for vowel, count in count_vowel2.items():\n",
        "   print(vowel + \": \" + str(count))"
      ]
    },
    {
      "cell_type": "markdown",
      "source": [
        "# Question 4 (20 Points)"
      ],
      "metadata": {
        "id": "OP4-5qxAtInv"
      }
    },
    {
      "cell_type": "markdown",
      "source": [
        "Design and implement a simple command-line calculator program. The program should handle both integers and floating-point numbers.\n",
        "\n",
        "(a) Write program that takes a mathematical expression as input and evaluates it. The program should support addition, subtraction, multiplication, and division.\n",
        "\n",
        "(b) Extend the calculator to handle parentheses in mathematical expressions. Implement the necessary logic to evaluate expressions with nested parentheses.\n",
        "\n",
        "(c) Enhance your calculator to include additional mathematical operations such as exponentiation, square root, and modulus.\n",
        "\n",
        "(d) Implement error handling in the calculator program. Handle cases such as division by zero and invalid input expressions. Provide meaningful error messages.\n",
        "\n",
        "(e) Implement a command to exit the calculator."
      ],
      "metadata": {
        "id": "uzN4_hDptK9U"
      }
    },
    {
      "cell_type": "code",
      "source": [
        "import math\n",
        "\n",
        "def calculator(expression):\n",
        "    try:\n",
        "        expression_arr = expression.split()\n",
        "        num1 = float(expression_arr[0])\n",
        "        op = expression_arr[1]\n",
        "        num2 = float(expression_arr[2])\n",
        "\n",
        "        if op == '+':\n",
        "            return num1 + num2\n",
        "        elif op == '-':\n",
        "            return num1 - num2\n",
        "        elif op == '*':\n",
        "            return num1 * num2\n",
        "        elif op == '/':\n",
        "            if num2 == 0:\n",
        "                return \"Error: Division by zero is undefined.\"\n",
        "            return num1 / num2\n",
        "        elif op == '**':\n",
        "            return num1 ** num2\n",
        "        elif op == 'sqrt':\n",
        "            return math.sqrt(num1)\n",
        "        else:\n",
        "            return \"Error: Invalid operation.\"\n",
        "    except Exception as e:\n",
        "        return f\"Error: {e}\"\n",
        "\n",
        "def main():\n",
        "    print(\"Calculator Program\")\n",
        "    print(\"Type 'exit' to quit.\")\n",
        "\n",
        "    while True:\n",
        "        user_input = input(\"Enter expression (like 5 + 3): \").strip()\n",
        "\n",
        "        if user_input.lower() == 'exit':\n",
        "            print(\"Exit\")\n",
        "            break\n",
        "        result = calculator(user_input)\n",
        "        print(\"Result: \" + str(result))\n",
        "\n",
        "if __name__ == \"__main__\":\n",
        "    main()"
      ],
      "metadata": {
        "id": "8nQnVxjJuYtu",
        "colab": {
          "base_uri": "https://localhost:8080/"
        },
        "outputId": "c1f9e8fb-f14a-44b3-a16d-a65b697fefb0"
      },
      "execution_count": 34,
      "outputs": [
        {
          "output_type": "stream",
          "name": "stdout",
          "text": [
            "Calculator Program\n",
            "Type 'exit' to quit.\n",
            "Enter expression (like 5 + 3):  25 sqrt 2\n",
            "Result: 5.0\n",
            "Enter expression (like 5 + 3): 56 / 8\n",
            "Result: 7.0\n",
            "Enter expression (like 5 + 3): 4 * 5\n",
            "Result: 20.0\n",
            "Enter expression (like 5 + 3): 9 - 3\n",
            "Result: 6.0\n",
            "Enter expression (like 5 + 3): 7 + 4\n",
            "Result: 11.0\n",
            "Enter expression (like 5 + 3): exit\n",
            "Exit\n"
          ]
        }
      ]
    },
    {
      "cell_type": "markdown",
      "metadata": {
        "id": "z3tBE7E-Xn5X"
      },
      "source": [
        "# Question 5 (30 points).\n",
        "\n",
        "In the field of Data Science, data is often formatted as a comma-delimited (CSV) file, where each line in a file corresponds to a field's value. Refer to Chapter 9 (p. 106) for more information on comma-delimited files.\n",
        "\n",
        "To answer this question, you will need to download the file [Assignment1_denton_housing.csv](https://raw.githubusercontent.com/unt-iialab/info5731-spring2022/main/assignments/Assignment1_denton_housing.csv) included with this assignment. The file contains statistics about housing in the city of Denton from 2008 to 2014. Write a program to implement the following questions.\n",
        "\n",
        "(a) (5 pts) Calculate the difference in the number of Occupied Housing Units from year to year and print it. The difference must be calculated for the consecutive years such as 2008-2009, 2009-2010 etc. Finally, print the values in the ascending order.\n",
        "\n",
        "(b) (5 pts) For all the years, calculate the percentage of housing units which are vacant an occupied. Print the results in the following format:\n",
        "\n",
        "Year Vacant Housing Units Occupied Housing Units\n",
        "\n",
        "    2008  30%   70%                          \n",
        "\t2009 ----- -----\n",
        "\t2010 ----- -----\n",
        "    2011 ----- -----\n",
        "\t2012 ----- -----\n",
        "    2013 ----- -----\n",
        "\t2014 ----- -----\n",
        "  \n",
        "  \n",
        "\n",
        "(c) (10 pts) Calculate and print the valued and years in which the highest number of housing units were vacant and occupied. Print the results in the following format:  \n",
        "\n",
        "                              Year\tValue\n",
        "\tVacant Housing Units\t  -----   -----\n",
        "\tOccupied Housing Units\t-----   -----\n",
        "\n",
        "(d) (10 pts) Calculate the harmonic mean of the total housing units and print it out. You can find the information about harmonic mean here: https://ncalculators.com/statistics/harmonic-mean-calculator.htm"
      ]
    },
    {
      "cell_type": "code",
      "execution_count": 35,
      "metadata": {
        "id": "lqGYuHBhcsRH",
        "colab": {
          "base_uri": "https://localhost:8080/"
        },
        "outputId": "f38f2e6b-17d0-4f27-e041-a4c4be2daf9c"
      },
      "outputs": [
        {
          "output_type": "stream",
          "name": "stdout",
          "text": [
            "\n",
            "(a) Difference in Occupied Housing Units:\n",
            "    year  Occupied Difference\n",
            "17  2009               -795.0\n",
            "11  2011               -303.0\n",
            "20  2008                  0.0\n",
            "8   2012               1404.0\n",
            "5   2013               1565.0\n",
            "2   2014               2622.0\n",
            "14  2010               5091.0\n",
            "\n",
            "(b) Percentage of Housing Units:\n",
            "Year  Vacant (%)  Occupied (%)\n",
            "2014.0    5.7%    94.3%\n",
            "2013.0    8.8%    91.2%\n",
            "2012.0    6.7%    93.3%\n",
            "2011.0    9.4%    90.6%\n",
            "2010.0    8.1%    91.9%\n",
            "2009.0    9.1%    90.9%\n",
            "2008.0    10.9%    89.1%\n",
            "\n",
            "(c) Maximum Housing Units:\n",
            "Vacant Housing Units: 2008.0   4483.0\n",
            "Occupied Housing Units: 2014.0   46295.0\n",
            "\n",
            "(d) Harmonic Mean of Total Housing Units:\n",
            "44398.29\n"
          ]
        }
      ],
      "source": [
        "import pandas as pd\n",
        "import numpy as np\n",
        "\n",
        "df = pd.read_csv('Assignment1_denton_housing.csv')\n",
        "#loading file into dataframe\n",
        "\n",
        "#a)year-to-year difference in occupied housing units\n",
        "years = df[df['title_field'] == 'Occupied Housing Units'].sort_values(by='year')\n",
        "years['Occupied Difference'] = years['value'].diff().fillna(0)\n",
        "print(\"\\n(a) Difference in Occupied Housing Units:\")\n",
        "print(years[['year', 'Occupied Difference']].sort_values(by='Occupied Difference'))\n",
        "\n",
        "#b)the percentage of vacant and occupied housing units for each year\n",
        "#Data filtering\n",
        "total_units = df[df['title_field'] == 'Total Housing Units']\n",
        "vacant_units = df[df['title_field'] == 'Vacant Housing Units']\n",
        "occupied_units = df[df['title_field'] == 'Occupied Housing Units']\n",
        "\n",
        "#Based on year dtata merging\n",
        "merged = pd.merge(total_units, vacant_units, on='year', suffixes=('_total', '_vacant'))\n",
        "merged = pd.merge(merged, occupied_units, on='year', suffixes=('', '_occupied'))\n",
        "\n",
        "\n",
        "#Renaming coloumns\n",
        "merged.rename(columns={\n",
        "    'value_total': 'Total Housing Units',\n",
        "    'value_vacant': 'Vacant Housing Units',\n",
        "    'value': 'Occupied Housing Units'\n",
        "}, inplace=True)\n",
        "\n",
        "merged = merged[['year', 'Total Housing Units', 'Vacant Housing Units', 'Occupied Housing Units']]\n",
        "\n",
        "merged['Vacant Percentage'] = (merged['Vacant Housing Units'] / merged['Total Housing Units']) * 100\n",
        "merged['Occupied Percentage'] = (merged['Occupied Housing Units'] / merged['Total Housing Units']) * 100\n",
        "\n",
        "print(\"\\n(b) Percentage of Housing Units:\")\n",
        "print(\"Year  Vacant (%)  Occupied (%)\")\n",
        "for index, row in merged.iterrows():\n",
        "    print(f\"{row['year']}    {row['Vacant Percentage']:.1f}%    {row['Occupied Percentage']:.1f}%\")\n",
        "\n",
        "#c)\n",
        "vacant_max = merged.loc[merged['Vacant Housing Units'].idxmax()]\n",
        "occupied_max = merged.loc[merged['Occupied Housing Units'].idxmax()]\n",
        "\n",
        "print(\"\\n(c) Maximum Housing Units:\")\n",
        "print(f\"Vacant Housing Units: {vacant_max['year']}   {vacant_max['Vacant Housing Units']}\")\n",
        "print(f\"Occupied Housing Units: {occupied_max['year']}   {occupied_max['Occupied Housing Units']}\")\n",
        "\n",
        "#d)\n",
        "harmonic_mean = len(merged) / np.sum(1 / merged['Total Housing Units'])\n",
        "print(\"\\n(d) Harmonic Mean of Total Housing Units:\")\n",
        "print(f\"{harmonic_mean:.2f}\")\n"
      ]
    },
    {
      "cell_type": "markdown",
      "source": [
        "# Mandatory Question\n",
        "\n",
        "Provide your thoughts on the assignment. What did you find challenging, and what aspects did you enjoy? Your opinion on the provided time to complete the assignment. Share any suggestions for improvement. Your feedback will be valuable for enhancing the learning experience."
      ],
      "metadata": {
        "id": "q8BFCvWp32cf"
      }
    },
    {
      "cell_type": "code",
      "source": [
        "#Assignment was very thoughtful. I didn't find any challenging in this assignment since the lecture was very clear and the provided material was very helpful. I enjoyed coding thoroughly for all the questions and sub questions. I analysed the materials for 3 days and understood the concept then finally did the assignment,"
      ],
      "metadata": {
        "id": "_e557s2w4BpK"
      },
      "execution_count": 36,
      "outputs": []
    }
  ],
  "metadata": {
    "colab": {
      "provenance": []
    },
    "kernelspec": {
      "display_name": "Python 3 (ipykernel)",
      "language": "python",
      "name": "python3"
    },
    "language_info": {
      "codemirror_mode": {
        "name": "ipython",
        "version": 3
      },
      "file_extension": ".py",
      "mimetype": "text/x-python",
      "name": "python",
      "nbconvert_exporter": "python",
      "pygments_lexer": "ipython3",
      "version": "3.9.12"
    }
  },
  "nbformat": 4,
  "nbformat_minor": 0
}